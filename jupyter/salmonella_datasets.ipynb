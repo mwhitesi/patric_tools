{
 "cells": [
  {
   "cell_type": "code",
   "execution_count": 204,
   "metadata": {
    "collapsed": false
   },
   "outputs": [],
   "source": [
    "import subprocess\n",
    "import os\n",
    "import sys\n",
    "import numpy as np\n",
    "import pandas as pd\n",
    "from tempfile import gettempdir\n",
    "module_path = os.path.abspath(os.path.join('..'))\n",
    "if module_path not in sys.path:\n",
    "    sys.path.append(module_path)\n"
   ]
  },
  {
   "cell_type": "code",
   "execution_count": 205,
   "metadata": {
    "collapsed": false
   },
   "outputs": [
    {
     "name": "stdout",
     "output_type": "stream",
     "text": [
      "The autoreload extension is already loaded. To reload it, use:\n",
      "  %reload_ext autoreload\n"
     ]
    }
   ],
   "source": [
    "%load_ext autoreload"
   ]
  },
  {
   "cell_type": "code",
   "execution_count": 206,
   "metadata": {
    "collapsed": false
   },
   "outputs": [],
   "source": [
    "%aimport patric_tools.mic\n",
    "%aimport patric_tools.amr"
   ]
  },
  {
   "cell_type": "code",
   "execution_count": 207,
   "metadata": {
    "collapsed": false
   },
   "outputs": [],
   "source": [
    "amr_metadata_file = patric_tools.amr.get_latest_metadata(gettempdir())"
   ]
  },
  {
   "cell_type": "code",
   "execution_count": 208,
   "metadata": {
    "collapsed": false
   },
   "outputs": [
    {
     "data": {
      "text/plain": [
       "'/tmp/PATRIC_genomes_AMR.txt'"
      ]
     },
     "execution_count": 208,
     "metadata": {},
     "output_type": "execute_result"
    }
   ],
   "source": [
    "amr_metadata_file"
   ]
  },
  {
   "cell_type": "code",
   "execution_count": 209,
   "metadata": {
    "collapsed": true
   },
   "outputs": [],
   "source": [
    "species=[\"salmonella enterica\"]"
   ]
  },
  {
   "cell_type": "code",
   "execution_count": 210,
   "metadata": {
    "collapsed": false
   },
   "outputs": [],
   "source": [
    "amr = pd.read_table(amr_metadata_file, \n",
    "        usecols=[\"genome_id\", \"genome_name\", \"taxon_id\", \"antibiotic\", \"resistant_phenotype\", \"measurement\", \n",
    "            \"measurement_sign\", \"measurement_value\", \"measurement_unit\", \"laboratory_typing_method\", \"laboratory_typing_method_version\"],\n",
    "        converters={'genome_id': str})"
   ]
  },
  {
   "cell_type": "code",
   "execution_count": 211,
   "metadata": {
    "collapsed": false
   },
   "outputs": [],
   "source": [
    "amr['species'] = amr.genome_name.apply(lambda x: \" \".join(x.lower().split()[:2]))"
   ]
  },
  {
   "cell_type": "code",
   "execution_count": 212,
   "metadata": {
    "collapsed": false
   },
   "outputs": [],
   "source": [
    "if type(species) == str:\n",
    "    species = [species]\n",
    "if species is not None:\n",
    "    species = [s.lower() for s in species]\n",
    "    amr = amr.loc[[n.lower() in species for n in amr.species]]"
   ]
  },
  {
   "cell_type": "code",
   "execution_count": 213,
   "metadata": {
    "collapsed": false
   },
   "outputs": [
    {
     "data": {
      "text/plain": [
       "breakpoint                                  3603\n",
       "Sensititer Automated Microbiology System     357\n",
       "disc diffusion                               121\n",
       "MIC                                           14\n",
       "Name: laboratory_typing_method, dtype: int64"
      ]
     },
     "execution_count": 213,
     "metadata": {},
     "output_type": "execute_result"
    }
   ],
   "source": [
    "amr.laboratory_typing_method.value_counts()"
   ]
  },
  {
   "cell_type": "code",
   "execution_count": 214,
   "metadata": {
    "collapsed": false
   },
   "outputs": [
    {
     "data": {
      "text/plain": [
       "Susceptible     2318\n",
       "Resistant       1775\n",
       "Intermediate       2\n",
       "Name: resistant_phenotype, dtype: int64"
      ]
     },
     "execution_count": 214,
     "metadata": {},
     "output_type": "execute_result"
    }
   ],
   "source": [
    "amr.resistant_phenotype.value_counts()"
   ]
  },
  {
   "cell_type": "code",
   "execution_count": 215,
   "metadata": {
    "collapsed": false
   },
   "outputs": [
    {
     "data": {
      "text/plain": [
       ">32            4\n",
       "==4            2\n",
       "==2/1          1\n",
       "<=16           1\n",
       "==0.12         1\n",
       "==8            1\n",
       "==64           1\n",
       "<=0.12/2.38    1\n",
       ">8             1\n",
       "==2            1\n",
       "Name: measurement, dtype: int64"
      ]
     },
     "execution_count": 215,
     "metadata": {},
     "output_type": "execute_result"
    }
   ],
   "source": [
    "amr.measurement.value_counts()"
   ]
  },
  {
   "cell_type": "code",
   "execution_count": 216,
   "metadata": {
    "collapsed": false
   },
   "outputs": [],
   "source": [
    "amr = amr[['genome_id', 'genome_name', 'taxon_id', 'antibiotic', 'resistant_phenotype']].dropna()"
   ]
  },
  {
   "cell_type": "code",
   "execution_count": 217,
   "metadata": {
    "collapsed": false
   },
   "outputs": [
    {
     "data": {
      "text/plain": [
       "(4095, 5)"
      ]
     },
     "execution_count": 217,
     "metadata": {},
     "output_type": "execute_result"
    }
   ],
   "source": [
    "amr.shape"
   ]
  },
  {
   "cell_type": "code",
   "execution_count": 218,
   "metadata": {
    "collapsed": false
   },
   "outputs": [],
   "source": [
    "amr = amr.groupby(['antibiotic']).filter(lambda x: sum(x['resistant_phenotype'] == 'Resistant') >= 10 and sum(x['resistant_phenotype'] == 'Susceptible') >= 10)"
   ]
  },
  {
   "cell_type": "code",
   "execution_count": 219,
   "metadata": {
    "collapsed": false
   },
   "outputs": [
    {
     "data": {
      "text/plain": [
       "antibiotic       resistant_phenotype\n",
       "ampicillin       Resistant              278\n",
       "                 Susceptible             64\n",
       "chloramphenicol  Resistant              251\n",
       "                 Susceptible             91\n",
       "gentamicin       Susceptible            256\n",
       "                 Resistant               11\n",
       "                 Intermediate             1\n",
       "kanamycin        Susceptible            248\n",
       "                 Resistant               19\n",
       "nalidixic acid   Susceptible            307\n",
       "                 Resistant               35\n",
       "spectinomycin    Resistant              233\n",
       "                 Susceptible             57\n",
       "streptomycin     Resistant              290\n",
       "                 Susceptible             52\n",
       "sulphonamides    Resistant              306\n",
       "                 Susceptible             35\n",
       "tetracycline     Resistant              279\n",
       "                 Susceptible             63\n",
       "trimethoprim     Susceptible            296\n",
       "                 Resistant               45\n",
       "Name: resistant_phenotype, dtype: int64"
      ]
     },
     "execution_count": 219,
     "metadata": {},
     "output_type": "execute_result"
    }
   ],
   "source": [
    "amr.groupby('antibiotic')['resistant_phenotype'].value_counts()"
   ]
  },
  {
   "cell_type": "code",
   "execution_count": 220,
   "metadata": {
    "collapsed": false
   },
   "outputs": [
    {
     "data": {
      "text/plain": [
       "(3217, 5)"
      ]
     },
     "execution_count": 220,
     "metadata": {},
     "output_type": "execute_result"
    }
   ],
   "source": [
    "amr.shape"
   ]
  },
  {
   "cell_type": "code",
   "execution_count": 221,
   "metadata": {
    "collapsed": true
   },
   "outputs": [],
   "source": [
    "amr.to_csv('../data/salmonella/amr.csv', sep='\\t', index=False)"
   ]
  },
  {
   "cell_type": "code",
   "execution_count": 248,
   "metadata": {
    "collapsed": false
   },
   "outputs": [],
   "source": [
    "genomeids = amr['genome_id'].unique()\n",
    "genomeids.tofile('../data/salmonella/genomes.csv',sep='\\n',format='%s')"
   ]
  },
  {
   "cell_type": "code",
   "execution_count": 249,
   "metadata": {
    "collapsed": false
   },
   "outputs": [
    {
     "data": {
      "text/plain": [
       "342"
      ]
     },
     "execution_count": 249,
     "metadata": {},
     "output_type": "execute_result"
    }
   ],
   "source": [
    "len(genomeids)"
   ]
  },
  {
   "cell_type": "code",
   "execution_count": 254,
   "metadata": {
    "collapsed": false
   },
   "outputs": [],
   "source": [
    "genome_ids = pd.read_table('../data/salmonella/genomes.csv',header=None,names=['id'],converters={'id': str})"
   ]
  },
  {
   "cell_type": "code",
   "execution_count": 255,
   "metadata": {
    "collapsed": false
   },
   "outputs": [
    {
     "data": {
      "text/plain": [
       "id    85569.152\n",
       "Name: 1, dtype: object"
      ]
     },
     "execution_count": 255,
     "metadata": {},
     "output_type": "execute_result"
    }
   ],
   "source": [
    "genome_ids.ix[1]"
   ]
  },
  {
   "cell_type": "code",
   "execution_count": 256,
   "metadata": {
    "collapsed": false
   },
   "outputs": [
    {
     "data": {
      "text/plain": [
       "['85569.259',\n",
       " '85569.152',\n",
       " '85569.238',\n",
       " '85569.86',\n",
       " '85569.157',\n",
       " '85569.187',\n",
       " '85569.168',\n",
       " '85569.163',\n",
       " '85569.324',\n",
       " '85569.61',\n",
       " '85569.377',\n",
       " '85569.65',\n",
       " '85569.62',\n",
       " '85569.297',\n",
       " '85569.264',\n",
       " '85569.102',\n",
       " '85569.285',\n",
       " '85569.274',\n",
       " '85569.165',\n",
       " '85569.154',\n",
       " '85569.105',\n",
       " '85569.87',\n",
       " '85569.305',\n",
       " '85569.99',\n",
       " '85569.149',\n",
       " '85569.329',\n",
       " '85569.59',\n",
       " '85569.195',\n",
       " '85569.299',\n",
       " '85569.188',\n",
       " '85569.200',\n",
       " '85569.100',\n",
       " '85569.251',\n",
       " '85569.136',\n",
       " '85569.198',\n",
       " '85569.72',\n",
       " '85569.257',\n",
       " '85569.375',\n",
       " '85569.68',\n",
       " '85569.144',\n",
       " '85569.223',\n",
       " '85569.314',\n",
       " '85569.309',\n",
       " '85569.112',\n",
       " '85569.172',\n",
       " '85569.206',\n",
       " '85569.277',\n",
       " '85569.78',\n",
       " '85569.81',\n",
       " '85569.181',\n",
       " '85569.123',\n",
       " '85569.53',\n",
       " '85569.143',\n",
       " '85569.124',\n",
       " '85569.293',\n",
       " '85569.91',\n",
       " '85569.263',\n",
       " '85569.270',\n",
       " '85569.315',\n",
       " '85569.323',\n",
       " '85569.135',\n",
       " '85569.199',\n",
       " '85569.90',\n",
       " '85569.180',\n",
       " '85569.334',\n",
       " '85569.116',\n",
       " '85569.241',\n",
       " '85569.101',\n",
       " '85569.320',\n",
       " '85569.155',\n",
       " '85569.166',\n",
       " '85569.244',\n",
       " '85569.56',\n",
       " '85569.92',\n",
       " '85569.335',\n",
       " '85569.222',\n",
       " '85569.125',\n",
       " '85569.232',\n",
       " '85569.229',\n",
       " '85569.290',\n",
       " '85569.70',\n",
       " '85569.51',\n",
       " '85569.333',\n",
       " '85569.45',\n",
       " '85569.228',\n",
       " '85569.97',\n",
       " '85569.150',\n",
       " '85569.171',\n",
       " '85569.140',\n",
       " '85569.162',\n",
       " '85569.174',\n",
       " '85569.216',\n",
       " '85569.82',\n",
       " '85569.85',\n",
       " '85569.130',\n",
       " '85569.304',\n",
       " '85569.313',\n",
       " '85569.167',\n",
       " '85569.49',\n",
       " '85569.158',\n",
       " '85569.203',\n",
       " '85569.176',\n",
       " '85569.186',\n",
       " '85569.224',\n",
       " '85569.107',\n",
       " '85569.173',\n",
       " '85569.132',\n",
       " '85569.345',\n",
       " '85569.326',\n",
       " '85569.288',\n",
       " '85569.273',\n",
       " '85569.210',\n",
       " '85569.94',\n",
       " '85569.148',\n",
       " '85569.93',\n",
       " '85569.237',\n",
       " '85569.177',\n",
       " '85569.312',\n",
       " '85569.296',\n",
       " '85569.63',\n",
       " '85569.307',\n",
       " '85569.225',\n",
       " '85569.298',\n",
       " '85569.126',\n",
       " '85569.286',\n",
       " '85569.317',\n",
       " '85569.182',\n",
       " '85569.265',\n",
       " '85569.141',\n",
       " '85569.289',\n",
       " '85569.240',\n",
       " '85569.110',\n",
       " '85569.330',\n",
       " '85569.145',\n",
       " '85569.194',\n",
       " '85569.248',\n",
       " '85569.202',\n",
       " '85569.242',\n",
       " '85569.371',\n",
       " '85569.379',\n",
       " '85569.84',\n",
       " '85569.131',\n",
       " '85569.258',\n",
       " '85569.346',\n",
       " '85569.66',\n",
       " '85569.283',\n",
       " '85569.147',\n",
       " '85569.318',\n",
       " '85569.239',\n",
       " '85569.122',\n",
       " '85569.284',\n",
       " '85569.121',\n",
       " '85569.214',\n",
       " '85569.247',\n",
       " '85569.96',\n",
       " '85569.185',\n",
       " '85569.201',\n",
       " '85569.57',\n",
       " '85569.291',\n",
       " '85569.60',\n",
       " '85569.74',\n",
       " '85569.221',\n",
       " '85569.48',\n",
       " '85569.280',\n",
       " '85569.204',\n",
       " '85569.139',\n",
       " '85569.278',\n",
       " '85569.372',\n",
       " '85569.46',\n",
       " '85569.252',\n",
       " '85569.52',\n",
       " '85569.275',\n",
       " '85569.175',\n",
       " '85569.191',\n",
       " '85569.287',\n",
       " '85569.153',\n",
       " '85569.235',\n",
       " '85569.319',\n",
       " '85569.376',\n",
       " '85569.272',\n",
       " '85569.95',\n",
       " '85569.339',\n",
       " '85569.303',\n",
       " '85569.268',\n",
       " '85569.64',\n",
       " '85569.80',\n",
       " '85569.129',\n",
       " '85569.253',\n",
       " '85569.114',\n",
       " '85569.302',\n",
       " '85569.250',\n",
       " '85569.67',\n",
       " '85569.279',\n",
       " '85569.266',\n",
       " '85569.322',\n",
       " '85569.98',\n",
       " '85569.142',\n",
       " '85569.246',\n",
       " '85569.325',\n",
       " '85569.146',\n",
       " '85569.332',\n",
       " '85569.113',\n",
       " '85569.306',\n",
       " '85569.292',\n",
       " '85569.184',\n",
       " '85569.271',\n",
       " '85569.89',\n",
       " '85569.109',\n",
       " '85569.316',\n",
       " '85569.75',\n",
       " '85569.327',\n",
       " '85569.133',\n",
       " '85569.69',\n",
       " '85569.300',\n",
       " '85569.321',\n",
       " '85569.161',\n",
       " '85569.76',\n",
       " '85569.245',\n",
       " '85569.207',\n",
       " '85569.213',\n",
       " '85569.308',\n",
       " '85569.261',\n",
       " '85569.337',\n",
       " '85569.156',\n",
       " '85569.88',\n",
       " '85569.233',\n",
       " '85569.378',\n",
       " '85569.227',\n",
       " '85569.134',\n",
       " '85569.190',\n",
       " '85569.189',\n",
       " '85569.310',\n",
       " '85569.294',\n",
       " '85569.55',\n",
       " '85569.281',\n",
       " '85569.226',\n",
       " '85569.192',\n",
       " '85569.220',\n",
       " '85569.262',\n",
       " '85569.50',\n",
       " '85569.374',\n",
       " '85569.196',\n",
       " '85569.249',\n",
       " '85569.212',\n",
       " '85569.73',\n",
       " '85569.211',\n",
       " '85569.193',\n",
       " '85569.71',\n",
       " '85569.331',\n",
       " '85569.218',\n",
       " '85569.137',\n",
       " '85569.120',\n",
       " '85569.328',\n",
       " '85569.47',\n",
       " '85569.282',\n",
       " '85569.234',\n",
       " '85569.77',\n",
       " '85569.205',\n",
       " '85569.336',\n",
       " '85569.151',\n",
       " '85569.179',\n",
       " '85569.178',\n",
       " '85569.58',\n",
       " '85569.269',\n",
       " '85569.295',\n",
       " '85569.111',\n",
       " '85569.230',\n",
       " '85569.9',\n",
       " '85569.351',\n",
       " '85569.355',\n",
       " '85569.36',\n",
       " '85569.12',\n",
       " '85569.14',\n",
       " '85569.15',\n",
       " '85569.31',\n",
       " '85569.41',\n",
       " '85569.40',\n",
       " '85569.353',\n",
       " '85569.349',\n",
       " '85569.24',\n",
       " '85569.22',\n",
       " '85569.347',\n",
       " '85569.20',\n",
       " '85569.10',\n",
       " '85569.43',\n",
       " '85569.18',\n",
       " '85569.28',\n",
       " '85569.29',\n",
       " '85569.39',\n",
       " '85569.356',\n",
       " '85569.348',\n",
       " '85569.17',\n",
       " '85569.16',\n",
       " '85569.35',\n",
       " '85569.23',\n",
       " '85569.358',\n",
       " '85569.37',\n",
       " '85569.33',\n",
       " '85569.360',\n",
       " '85569.361',\n",
       " '85569.26',\n",
       " '85569.44',\n",
       " '85569.350',\n",
       " '85569.354',\n",
       " '85569.357',\n",
       " '85569.359',\n",
       " '85569.27',\n",
       " '85569.34',\n",
       " '85569.352',\n",
       " '85569.32',\n",
       " '85569.11',\n",
       " '85569.38',\n",
       " '85569.19',\n",
       " '85569.30',\n",
       " '85569.21',\n",
       " '85569.42',\n",
       " '85569.25',\n",
       " '85569.13',\n",
       " '85569.208',\n",
       " '85569.341',\n",
       " '85569.344',\n",
       " '85569.128',\n",
       " '85569.215',\n",
       " '85569.342',\n",
       " '85569.343',\n",
       " '85569.255',\n",
       " '85569.119',\n",
       " '85569.117',\n",
       " '85569.83',\n",
       " '85569.138',\n",
       " '85569.217',\n",
       " '85569.340',\n",
       " '85569.108',\n",
       " '85569.106',\n",
       " '85569.373',\n",
       " '85569.115',\n",
       " '85569.370',\n",
       " '85569.276',\n",
       " '85569.267',\n",
       " '85569.183',\n",
       " '85569.54',\n",
       " '595.68']"
      ]
     },
     "execution_count": 256,
     "metadata": {},
     "output_type": "execute_result"
    }
   ],
   "source": [
    "[g_id for g_id in genome_ids['id']]"
   ]
  },
  {
   "cell_type": "code",
   "execution_count": null,
   "metadata": {
    "collapsed": true
   },
   "outputs": [],
   "source": []
  }
 ],
 "metadata": {
  "kernelspec": {
   "display_name": "Python 3",
   "language": "python",
   "name": "python3"
  },
  "language_info": {
   "codemirror_mode": {
    "name": "ipython",
    "version": 3
   },
   "file_extension": ".py",
   "mimetype": "text/x-python",
   "name": "python",
   "nbconvert_exporter": "python",
   "pygments_lexer": "ipython3",
   "version": "3.6.0"
  }
 },
 "nbformat": 4,
 "nbformat_minor": 2
}
